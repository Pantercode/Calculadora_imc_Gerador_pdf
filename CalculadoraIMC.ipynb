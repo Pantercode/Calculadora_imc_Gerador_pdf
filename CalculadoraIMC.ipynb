{
  "cells": [
    {
      "cell_type": "markdown",
      "metadata": {
        "id": "view-in-github",
        "colab_type": "text"
      },
      "source": [
        "<a href=\"https://colab.research.google.com/github/Pantercode/Calculadora_imc_Gerador_pdf/blob/main/CalculadoraIMC.ipynb\" target=\"_parent\"><img src=\"https://colab.research.google.com/assets/colab-badge.svg\" alt=\"Open In Colab\"/></a>"
      ]
    },
    {
      "cell_type": "code",
      "execution_count": 1,
      "id": "12fc568f-2513-42f8-a161-a430fcbd803b",
      "metadata": {
        "colab": {
          "base_uri": "https://localhost:8080/"
        },
        "id": "12fc568f-2513-42f8-a161-a430fcbd803b",
        "outputId": "c9a298a5-c29d-45db-93b0-46c664291fc8"
      },
      "outputs": [
        {
          "output_type": "stream",
          "name": "stdout",
          "text": [
            "Requirement already satisfied: pip in /usr/local/lib/python3.10/dist-packages (23.1.2)\n",
            "Collecting pip\n",
            "  Downloading pip-24.0-py3-none-any.whl (2.1 MB)\n",
            "\u001b[2K     \u001b[90m━━━━━━━━━━━━━━━━━━━━━━━━━━━━━━━━━━━━━━━━\u001b[0m \u001b[32m2.1/2.1 MB\u001b[0m \u001b[31m12.9 MB/s\u001b[0m eta \u001b[36m0:00:00\u001b[0m\n",
            "\u001b[?25hInstalling collected packages: pip\n",
            "  Attempting uninstall: pip\n",
            "    Found existing installation: pip 23.1.2\n",
            "    Uninstalling pip-23.1.2:\n",
            "      Successfully uninstalled pip-23.1.2\n",
            "Successfully installed pip-24.0\n"
          ]
        }
      ],
      "source": [
        "!pip install --upgrade pip"
      ]
    },
    {
      "cell_type": "code",
      "execution_count": 2,
      "id": "b6c2462c-4abd-44c5-9495-671060973ccc",
      "metadata": {
        "colab": {
          "base_uri": "https://localhost:8080/"
        },
        "id": "b6c2462c-4abd-44c5-9495-671060973ccc",
        "outputId": "fdff718f-216a-4b40-b4e8-2f465f18fecd"
      },
      "outputs": [
        {
          "output_type": "stream",
          "name": "stdout",
          "text": [
            "Collecting weasyprint\n",
            "  Downloading weasyprint-61.0-py3-none-any.whl.metadata (3.7 kB)\n",
            "Collecting pydyf>=0.8.0 (from weasyprint)\n",
            "  Downloading pydyf-0.8.0-py3-none-any.whl.metadata (2.6 kB)\n",
            "Requirement already satisfied: cffi>=0.6 in /usr/local/lib/python3.10/dist-packages (from weasyprint) (1.16.0)\n",
            "Requirement already satisfied: html5lib>=1.1 in /usr/local/lib/python3.10/dist-packages (from weasyprint) (1.1)\n",
            "Requirement already satisfied: tinycss2>=1.0.0 in /usr/local/lib/python3.10/dist-packages (from weasyprint) (1.2.1)\n",
            "Collecting cssselect2>=0.1 (from weasyprint)\n",
            "  Downloading cssselect2-0.7.0-py3-none-any.whl (15 kB)\n",
            "Collecting Pyphen>=0.9.1 (from weasyprint)\n",
            "  Downloading pyphen-0.14.0-py3-none-any.whl (2.0 MB)\n",
            "\u001b[2K     \u001b[90m━━━━━━━━━━━━━━━━━━━━━━━━━━━━━━━━━━━━━━━━\u001b[0m \u001b[32m2.0/2.0 MB\u001b[0m \u001b[31m12.7 MB/s\u001b[0m eta \u001b[36m0:00:00\u001b[0m\n",
            "\u001b[?25hRequirement already satisfied: Pillow>=9.1.0 in /usr/local/lib/python3.10/dist-packages (from weasyprint) (9.4.0)\n",
            "Requirement already satisfied: fonttools>=4.0.0 in /usr/local/lib/python3.10/dist-packages (from fonttools[woff]>=4.0.0->weasyprint) (4.48.1)\n",
            "Requirement already satisfied: pycparser in /usr/local/lib/python3.10/dist-packages (from cffi>=0.6->weasyprint) (2.21)\n",
            "Requirement already satisfied: webencodings in /usr/local/lib/python3.10/dist-packages (from cssselect2>=0.1->weasyprint) (0.5.1)\n",
            "Collecting zopfli>=0.1.4 (from fonttools[woff]>=4.0.0->weasyprint)\n",
            "  Downloading zopfli-0.2.3-cp310-cp310-manylinux_2_12_x86_64.manylinux2010_x86_64.whl.metadata (2.9 kB)\n",
            "Collecting brotli>=1.0.1 (from fonttools[woff]>=4.0.0->weasyprint)\n",
            "  Downloading Brotli-1.1.0-cp310-cp310-manylinux_2_5_x86_64.manylinux1_x86_64.manylinux_2_12_x86_64.manylinux2010_x86_64.whl.metadata (5.5 kB)\n",
            "Requirement already satisfied: six>=1.9 in /usr/local/lib/python3.10/dist-packages (from html5lib>=1.1->weasyprint) (1.16.0)\n",
            "Downloading weasyprint-61.0-py3-none-any.whl (271 kB)\n",
            "\u001b[2K   \u001b[90m━━━━━━━━━━━━━━━━━━━━━━━━━━━━━━━━━━━━━━━━\u001b[0m \u001b[32m271.3/271.3 kB\u001b[0m \u001b[31m9.9 MB/s\u001b[0m eta \u001b[36m0:00:00\u001b[0m\n",
            "\u001b[?25hDownloading pydyf-0.8.0-py3-none-any.whl (7.5 kB)\n",
            "Downloading Brotli-1.1.0-cp310-cp310-manylinux_2_5_x86_64.manylinux1_x86_64.manylinux_2_12_x86_64.manylinux2010_x86_64.whl (3.0 MB)\n",
            "\u001b[2K   \u001b[90m━━━━━━━━━━━━━━━━━━━━━━━━━━━━━━━━━━━━━━━━\u001b[0m \u001b[32m3.0/3.0 MB\u001b[0m \u001b[31m21.8 MB/s\u001b[0m eta \u001b[36m0:00:00\u001b[0m\n",
            "\u001b[?25hDownloading zopfli-0.2.3-cp310-cp310-manylinux_2_12_x86_64.manylinux2010_x86_64.whl (848 kB)\n",
            "\u001b[2K   \u001b[90m━━━━━━━━━━━━━━━━━━━━━━━━━━━━━━━━━━━━━━━━\u001b[0m \u001b[32m848.9/848.9 kB\u001b[0m \u001b[31m21.9 MB/s\u001b[0m eta \u001b[36m0:00:00\u001b[0m\n",
            "\u001b[?25hInstalling collected packages: brotli, zopfli, Pyphen, pydyf, cssselect2, weasyprint\n",
            "Successfully installed Pyphen-0.14.0 brotli-1.1.0 cssselect2-0.7.0 pydyf-0.8.0 weasyprint-61.0 zopfli-0.2.3\n",
            "\u001b[33mWARNING: Running pip as the 'root' user can result in broken permissions and conflicting behaviour with the system package manager. It is recommended to use a virtual environment instead: https://pip.pypa.io/warnings/venv\u001b[0m\u001b[33m\n",
            "\u001b[0m"
          ]
        }
      ],
      "source": [
        "!pip install weasyprint"
      ]
    },
    {
      "cell_type": "code",
      "execution_count": 4,
      "id": "9045c364-fe31-49b6-8067-9ede4c13052c",
      "metadata": {
        "colab": {
          "base_uri": "https://localhost:8080/"
        },
        "id": "9045c364-fe31-49b6-8067-9ede4c13052c",
        "outputId": "c1773044-3d4b-43c0-ce78-5981038a30cb"
      },
      "outputs": [
        {
          "output_type": "stream",
          "name": "stdout",
          "text": [
            "Collecting pdf_reports\n",
            "  Downloading pdf_reports-0.3.5-py3-none-any.whl.metadata (2.1 kB)\n",
            "Collecting pypugjs (from pdf_reports)\n",
            "  Downloading pypugjs-5.9.12-py2.py3-none-any.whl (36 kB)\n",
            "Requirement already satisfied: jinja2 in /usr/local/lib/python3.10/dist-packages (from pdf_reports) (3.1.3)\n",
            "Requirement already satisfied: weasyprint in /usr/local/lib/python3.10/dist-packages (from pdf_reports) (61.0)\n",
            "Requirement already satisfied: beautifulsoup4 in /usr/local/lib/python3.10/dist-packages (from pdf_reports) (4.12.3)\n",
            "Requirement already satisfied: pandas in /usr/local/lib/python3.10/dist-packages (from pdf_reports) (1.5.3)\n",
            "Requirement already satisfied: Markdown in /usr/local/lib/python3.10/dist-packages (from pdf_reports) (3.5.2)\n",
            "Collecting backports.functools-lru-cache (from pdf_reports)\n",
            "  Downloading backports.functools_lru_cache-2.0.0-py2.py3-none-any.whl.metadata (3.5 kB)\n",
            "Requirement already satisfied: soupsieve>1.2 in /usr/local/lib/python3.10/dist-packages (from beautifulsoup4->pdf_reports) (2.5)\n",
            "Requirement already satisfied: MarkupSafe>=2.0 in /usr/local/lib/python3.10/dist-packages (from jinja2->pdf_reports) (2.1.5)\n",
            "Requirement already satisfied: python-dateutil>=2.8.1 in /usr/local/lib/python3.10/dist-packages (from pandas->pdf_reports) (2.8.2)\n",
            "Requirement already satisfied: pytz>=2020.1 in /usr/local/lib/python3.10/dist-packages (from pandas->pdf_reports) (2023.4)\n",
            "Requirement already satisfied: numpy>=1.21.0 in /usr/local/lib/python3.10/dist-packages (from pandas->pdf_reports) (1.23.5)\n",
            "Requirement already satisfied: six in /usr/local/lib/python3.10/dist-packages (from pypugjs->pdf_reports) (1.16.0)\n",
            "Requirement already satisfied: charset-normalizer in /usr/local/lib/python3.10/dist-packages (from pypugjs->pdf_reports) (3.3.2)\n",
            "Requirement already satisfied: pydyf>=0.8.0 in /usr/local/lib/python3.10/dist-packages (from weasyprint->pdf_reports) (0.8.0)\n",
            "Requirement already satisfied: cffi>=0.6 in /usr/local/lib/python3.10/dist-packages (from weasyprint->pdf_reports) (1.16.0)\n",
            "Requirement already satisfied: html5lib>=1.1 in /usr/local/lib/python3.10/dist-packages (from weasyprint->pdf_reports) (1.1)\n",
            "Requirement already satisfied: tinycss2>=1.0.0 in /usr/local/lib/python3.10/dist-packages (from weasyprint->pdf_reports) (1.2.1)\n",
            "Requirement already satisfied: cssselect2>=0.1 in /usr/local/lib/python3.10/dist-packages (from weasyprint->pdf_reports) (0.7.0)\n",
            "Requirement already satisfied: Pyphen>=0.9.1 in /usr/local/lib/python3.10/dist-packages (from weasyprint->pdf_reports) (0.14.0)\n",
            "Requirement already satisfied: Pillow>=9.1.0 in /usr/local/lib/python3.10/dist-packages (from weasyprint->pdf_reports) (9.4.0)\n",
            "Requirement already satisfied: fonttools>=4.0.0 in /usr/local/lib/python3.10/dist-packages (from fonttools[woff]>=4.0.0->weasyprint->pdf_reports) (4.48.1)\n",
            "Requirement already satisfied: pycparser in /usr/local/lib/python3.10/dist-packages (from cffi>=0.6->weasyprint->pdf_reports) (2.21)\n",
            "Requirement already satisfied: webencodings in /usr/local/lib/python3.10/dist-packages (from cssselect2>=0.1->weasyprint->pdf_reports) (0.5.1)\n",
            "Requirement already satisfied: zopfli>=0.1.4 in /usr/local/lib/python3.10/dist-packages (from fonttools[woff]>=4.0.0->weasyprint->pdf_reports) (0.2.3)\n",
            "Requirement already satisfied: brotli>=1.0.1 in /usr/local/lib/python3.10/dist-packages (from fonttools[woff]>=4.0.0->weasyprint->pdf_reports) (1.1.0)\n",
            "Downloading pdf_reports-0.3.5-py3-none-any.whl (118 kB)\n",
            "\u001b[2K   \u001b[90m━━━━━━━━━━━━━━━━━━━━━━━━━━━━━━━━━━━━━━━━\u001b[0m \u001b[32m118.4/118.4 kB\u001b[0m \u001b[31m4.4 MB/s\u001b[0m eta \u001b[36m0:00:00\u001b[0m\n",
            "\u001b[?25hDownloading backports.functools_lru_cache-2.0.0-py2.py3-none-any.whl (6.7 kB)\n",
            "Installing collected packages: pypugjs, backports.functools-lru-cache, pdf_reports\n",
            "Successfully installed backports.functools-lru-cache-2.0.0 pdf_reports-0.3.5 pypugjs-5.9.12\n",
            "\u001b[33mWARNING: Running pip as the 'root' user can result in broken permissions and conflicting behaviour with the system package manager. It is recommended to use a virtual environment instead: https://pip.pypa.io/warnings/venv\u001b[0m\u001b[33m\n",
            "\u001b[0m"
          ]
        }
      ],
      "source": [
        "!pip install pdf_reports"
      ]
    },
    {
      "cell_type": "code",
      "execution_count": 5,
      "id": "33fd586c-7d09-44ad-b0e6-da84f022bf70",
      "metadata": {
        "id": "33fd586c-7d09-44ad-b0e6-da84f022bf70"
      },
      "outputs": [],
      "source": [
        "import pdf_reports"
      ]
    },
    {
      "cell_type": "raw",
      "id": "23b96980-70a2-4035-917f-7cd5c35a0a40",
      "metadata": {
        "id": "23b96980-70a2-4035-917f-7cd5c35a0a40"
      },
      "source": [
        "Input de dados"
      ]
    },
    {
      "cell_type": "code",
      "execution_count": 6,
      "id": "1c98fd3f-ef5a-4c83-bd00-79c88e17c67f",
      "metadata": {
        "colab": {
          "base_uri": "https://localhost:8080/"
        },
        "id": "1c98fd3f-ef5a-4c83-bd00-79c88e17c67f",
        "outputId": "1bae42af-dd9e-4089-e38e-e4bc987d9ecb"
      },
      "outputs": [
        {
          "name": "stdout",
          "output_type": "stream",
          "text": [
            "Digite o nome do aluno(a): Marcell Felipe de Paula Oliveira\n",
            "Digite a idade do aluno(a): 34\n",
            "Digite o peso do aluno(a) em (kg): 80\n",
            "Digite a altura do aluno(a) em (m): 1.71\n"
          ]
        }
      ],
      "source": [
        "Nome = input('Digite o nome do aluno(a): ')\n",
        "Idade =int(input('Digite a idade do aluno(a): '))\n",
        "Peso = float(input('Digite o peso do aluno(a) em (kg): '))\n",
        "Altura =float( input('Digite a altura do aluno(a) em (m): '))"
      ]
    },
    {
      "cell_type": "markdown",
      "id": "ccba5430-913b-41e4-9d4b-87f7328a3ad6",
      "metadata": {
        "id": "ccba5430-913b-41e4-9d4b-87f7328a3ad6"
      },
      "source": [
        "Calculando o Imc"
      ]
    },
    {
      "cell_type": "code",
      "execution_count": 7,
      "id": "eb2edcf5-91c8-4b77-a387-9eac8324be2b",
      "metadata": {
        "id": "eb2edcf5-91c8-4b77-a387-9eac8324be2b"
      },
      "outputs": [],
      "source": [
        "Imc = Peso / (Altura** 2)"
      ]
    },
    {
      "cell_type": "code",
      "execution_count": 8,
      "id": "7e91548c-ced4-43fb-8786-88d0d2ae4c44",
      "metadata": {
        "colab": {
          "base_uri": "https://localhost:8080/"
        },
        "id": "7e91548c-ced4-43fb-8786-88d0d2ae4c44",
        "outputId": "903e9236-33aa-4f46-a09d-d9d3a0a4a2d2"
      },
      "outputs": [
        {
          "output_type": "execute_result",
          "data": {
            "text/plain": [
              "27.358845456721728"
            ]
          },
          "metadata": {},
          "execution_count": 8
        }
      ],
      "source": [
        "Imc"
      ]
    },
    {
      "cell_type": "markdown",
      "id": "b6a267bf-03b1-4151-be32-ef14f15e6cc1",
      "metadata": {
        "id": "b6a267bf-03b1-4151-be32-ef14f15e6cc1"
      },
      "source": [
        "Status"
      ]
    },
    {
      "cell_type": "code",
      "execution_count": 9,
      "id": "086f6d6c-eda4-4bd5-a662-be6d97b18ff2",
      "metadata": {
        "id": "086f6d6c-eda4-4bd5-a662-be6d97b18ff2"
      },
      "outputs": [],
      "source": [
        "Status = 'dentro do peso'\n",
        "\n",
        "if Imc > 25 :\n",
        "    status = 'sobrepeso'"
      ]
    },
    {
      "cell_type": "code",
      "execution_count": 10,
      "id": "05353b00-3d4d-4fbd-b8e1-6adaf4b9d6c9",
      "metadata": {
        "colab": {
          "base_uri": "https://localhost:8080/",
          "height": 35
        },
        "id": "05353b00-3d4d-4fbd-b8e1-6adaf4b9d6c9",
        "outputId": "c40c7d4b-2440-4401-a2e3-94104f776c94"
      },
      "outputs": [
        {
          "output_type": "execute_result",
          "data": {
            "text/plain": [
              "'dentro do peso'"
            ],
            "application/vnd.google.colaboratory.intrinsic+json": {
              "type": "string"
            }
          },
          "metadata": {},
          "execution_count": 10
        }
      ],
      "source": [
        "Status"
      ]
    },
    {
      "cell_type": "markdown",
      "id": "4e643d61-921d-4b94-90f7-1a5cc77d403f",
      "metadata": {
        "id": "4e643d61-921d-4b94-90f7-1a5cc77d403f"
      },
      "source": [
        "Gerando o Pdf do Resultado"
      ]
    },
    {
      "cell_type": "code",
      "execution_count": 11,
      "id": "57a57b77-59c3-48ef-aaf5-a2cced20d6cf",
      "metadata": {
        "id": "57a57b77-59c3-48ef-aaf5-a2cced20d6cf"
      },
      "outputs": [],
      "source": [
        "dados_aluno = {\n",
        "    \"nome\": Nome,\n",
        "    \"idade\": Idade,\n",
        "    \"peso\" : Peso,\n",
        "    \"altura\": Altura,\n",
        "    \"imc\": round(Imc,2),\n",
        "    \"status\": Status\n",
        "\n",
        "}"
      ]
    },
    {
      "cell_type": "code",
      "execution_count": 13,
      "id": "28fc9edb-dd39-4227-b1a5-93ce813dbbbc",
      "metadata": {
        "id": "28fc9edb-dd39-4227-b1a5-93ce813dbbbc"
      },
      "outputs": [],
      "source": [
        "template = pdf_reports.pug_to_html(\"template.pug\", dados= dados_aluno)"
      ]
    },
    {
      "cell_type": "markdown",
      "source": [
        "# Nova seção"
      ],
      "metadata": {
        "id": "9jg4O2KG3Qaf"
      },
      "id": "9jg4O2KG3Qaf"
    },
    {
      "cell_type": "markdown",
      "source": [
        "# Nova seção"
      ],
      "metadata": {
        "id": "_DL1ro293RZM"
      },
      "id": "_DL1ro293RZM"
    },
    {
      "cell_type": "code",
      "execution_count": 14,
      "id": "7d1c1c35-27d6-4f20-9097-62d4841f0f06",
      "metadata": {
        "id": "7d1c1c35-27d6-4f20-9097-62d4841f0f06"
      },
      "outputs": [],
      "source": [
        "pdf_reports.write_report(template, \"Ficha_Aluno.pdf\", use_default_styling=False)"
      ]
    },
    {
      "cell_type": "code",
      "execution_count": 14,
      "id": "73dd0184-c044-4cb8-9857-fba24d7d3c43",
      "metadata": {
        "id": "73dd0184-c044-4cb8-9857-fba24d7d3c43"
      },
      "outputs": [],
      "source": []
    }
  ],
  "metadata": {
    "kernelspec": {
      "display_name": "Python 3 (ipykernel)",
      "language": "python",
      "name": "python3"
    },
    "language_info": {
      "codemirror_mode": {
        "name": "ipython",
        "version": 3
      },
      "file_extension": ".py",
      "mimetype": "text/x-python",
      "name": "python",
      "nbconvert_exporter": "python",
      "pygments_lexer": "ipython3",
      "version": "3.9.12"
    },
    "colab": {
      "provenance": [],
      "include_colab_link": true
    }
  },
  "nbformat": 4,
  "nbformat_minor": 5
}